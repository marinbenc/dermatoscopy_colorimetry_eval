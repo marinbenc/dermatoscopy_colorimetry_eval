lights = []
for f in all_files:
    lights.append(f.split('/')[-3])

print(np.unique(lights))
